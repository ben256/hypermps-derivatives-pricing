{
 "cells": [
  {
   "cell_type": "markdown",
   "id": "842091d5",
   "metadata": {},
   "source": [
    "# TT Reconstruction Evaluation\n",
    "Evaluate model-predicted TT cores vs ground truth."
   ]
  },
  {
   "cell_type": "code",
   "execution_count": null,
   "id": "12ff1eb2",
   "metadata": {},
   "outputs": [],
   "source": [
    "import torch\n",
    "import torch.nn.functional as F\n",
    "from itertools import product\n"
   ]
  },
  {
   "cell_type": "code",
   "execution_count": null,
   "id": "2dbe46bc",
   "metadata": {},
   "outputs": [],
   "source": [
    "def preprocess_pred_cores(pred_cores):\n",
    "    return [core.squeeze(0) for core in pred_cores]\n"
   ]
  },
  {
   "cell_type": "code",
   "execution_count": null,
   "id": "d2631a9b",
   "metadata": {},
   "outputs": [],
   "source": [
    "def generate_valid_input_indices_safe(*cores_lists):\n",
    "    d = len(cores_lists[0])\n",
    "    mode_sizes = []\n",
    "    for i in range(d):\n",
    "        n_i_list = [cores[i].shape[1] for cores in cores_lists]\n",
    "        n_i_min = min(n_i_list)\n",
    "        mode_sizes.append(n_i_min)\n",
    "    grid = list(product(*[range(n) for n in mode_sizes]))\n",
    "    return torch.tensor(grid, dtype=torch.long)\n"
   ]
  },
  {
   "cell_type": "code",
   "execution_count": null,
   "id": "486a0ff3",
   "metadata": {},
   "outputs": [],
   "source": [
    "def contract_tt_cores(cores, input_indices):\n",
    "    batch_size, d = input_indices.shape\n",
    "    device = input_indices.device\n",
    "    result = None\n",
    "    for i in range(d):\n",
    "        core = cores[i].to(device)\n",
    "        x_i = input_indices[:, i]\n",
    "        r_i, n_i, r_ip1 = core.shape\n",
    "        assert x_i.max().item() < n_i, f\"x_i contains value >= n_i={n_i} at dim {i}\"\n",
    "        selected = torch.stack([core[:, xi.item(), :] for xi in x_i], dim=0)\n",
    "        result = selected if result is None else torch.bmm(result, selected)\n",
    "    return result.view(batch_size)\n"
   ]
  },
  {
   "cell_type": "code",
   "execution_count": null,
   "id": "ac87dea3",
   "metadata": {},
   "outputs": [],
   "source": [
    "def evaluate_function_approx(pred_cores, true_cores, input_indices):\n",
    "    pred_cores_clean = preprocess_pred_cores(pred_cores)\n",
    "    f_pred = contract_tt_cores(pred_cores_clean, input_indices)\n",
    "    f_true = contract_tt_cores(true_cores, input_indices)\n",
    "    mse = F.mse_loss(f_pred, f_true)\n",
    "    return mse.item(), f_pred, f_true\n"
   ]
  },
  {
   "cell_type": "code",
   "execution_count": null,
   "id": "a1135264",
   "metadata": {},
   "outputs": [],
   "source": [
    "# Assume mu_tensor, tt_true, model are available\n",
    "with torch.no_grad():\n",
    "    pred_cores = model(mu_tensor.unsqueeze(0))\n",
    "    true_cores = [core for core in tt_true.cores]\n",
    "    pred_cores_clean = preprocess_pred_cores(pred_cores)\n",
    "    input_indices = generate_valid_input_indices_safe(pred_cores_clean, true_cores)\n",
    "    mse, f_pred, f_true = evaluate_function_approx(pred_cores, true_cores, input_indices)\n",
    "    print(\"Reconstruction MSE:\", mse)\n"
   ]
  }
 ],
 "metadata": {},
 "nbformat": 4,
 "nbformat_minor": 5
}
